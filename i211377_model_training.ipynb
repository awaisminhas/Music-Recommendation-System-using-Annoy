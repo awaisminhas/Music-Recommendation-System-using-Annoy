{
 "cells": [
  {
   "cell_type": "code",
   "execution_count": 30,
   "id": "76e57a6c-e0f8-4f92-bb1f-1613c94b4222",
   "metadata": {},
   "outputs": [],
   "source": [
    "from pyspark.sql import SparkSession"
   ]
  },
  {
   "cell_type": "code",
   "execution_count": 31,
   "id": "0bb02eb7-cc85-458b-954f-1c7bf2522cee",
   "metadata": {},
   "outputs": [],
   "source": [
    "# Create Spark session\n",
    "spark = SparkSession.builder.appName('fma_recommendation_system').getOrCreate()"
   ]
  },
  {
   "cell_type": "code",
   "execution_count": 32,
   "id": "fb6c34f1-c761-462d-82fe-cd2df42c5c58",
   "metadata": {},
   "outputs": [],
   "source": [
    "from pymongo import MongoClient"
   ]
  },
  {
   "cell_type": "code",
   "execution_count": 33,
   "id": "5d04c8c5-057f-40d9-b2e7-76bc2e4ecaba",
   "metadata": {},
   "outputs": [],
   "source": [
    "# Set up MongoDB connection\n",
    "client = MongoClient(\"mongodb://localhost:27017\")"
   ]
  },
  {
   "cell_type": "code",
   "execution_count": 34,
   "id": "66999bcd-0eca-4a51-80d9-2c8c37b3cd52",
   "metadata": {},
   "outputs": [],
   "source": [
    "db = client['mfcc_database']\n",
    "collection = db['mfcc_collection']"
   ]
  },
  {
   "cell_type": "code",
   "execution_count": 35,
   "id": "188be063-09e2-40e1-86ac-74976b1ec70b",
   "metadata": {},
   "outputs": [],
   "source": [
    "from pyspark.sql.types import StructType, StructField, StringType, IntegerType, ArrayType, FloatType\n",
    "\n",
    "# Define the schema for the dataframe\n",
    "schema = StructType([\n",
    "    StructField('_id', StringType(), True),\n",
    "    StructField('artist_name', StringType(), True),\n",
    "    StructField('tags', ArrayType(StringType()), True),  # Changed tags to ArrayType(StringType())\n",
    "    StructField('genre', StringType(), True),\n",
    "    StructField('plays', IntegerType(), True),\n",
    "    StructField('title', StringType(), True),\n",
    "    StructField('mfcc_features', ArrayType(FloatType(), True))\n",
    "])\n"
   ]
  },
  {
   "cell_type": "code",
   "execution_count": 36,
   "id": "ea0cf603-3894-4bc0-a543-41fded1d328f",
   "metadata": {},
   "outputs": [],
   "source": [
    "# Get data from collection, limited to 1000 documents\n",
    "data = collection.find().limit(10000)"
   ]
  },
  {
   "cell_type": "code",
   "execution_count": 37,
   "id": "abf7c501-9ded-4241-a6ff-a376dc1c0df6",
   "metadata": {},
   "outputs": [],
   "source": [
    "# Convert data into a Spark dataframe using the defined schema\n",
    "df = spark.createDataFrame(list(data), schema=schema)"
   ]
  },
  {
   "cell_type": "code",
   "execution_count": 38,
   "id": "81f9fd46-7939-4fd6-a5da-58edc21a4181",
   "metadata": {},
   "outputs": [
    {
     "name": "stdout",
     "output_type": "stream",
     "text": [
      "+------+--------------------+------+----------------+-----+--------------------+--------------------+\n",
      "|   _id|         artist_name|  tags|           genre|plays|               title|       mfcc_features|\n",
      "+------+--------------------+------+----------------+-----+--------------------+--------------------+\n",
      "|002112|       Lucky Dragons|[[, ]]|   Audio Collage|  140|            Untitled|[-115.737465, 158...|\n",
      "|002074|      Thomas Dimuzio|[[, ]]|      Electronic|   52|             Poctoth|[-450.57495, 178....|\n",
      "|002012|          White Mice|[[, ]]|           Noise| 1383|      The White Mice|[-13.433411, 136....|\n",
      "|002073|      Thomas Dimuzio|[[, ]]|      Electronic|   61|           Skullshop|[-368.97177, 77.6...|\n",
      "|002071|      Thomas Dimuzio|[[, ]]|      Electronic|  140|          Blind Lion|[-371.8308, 170.4...|\n",
      "|002008|Weather (from Chi...|[[, ]]|Field Recordings|  187|            Track 12|[-426.25522, 150....|\n",
      "|002105|       Lucky Dragons|[[, ]]|   Audio Collage| 7027|          Untitled 6|[-142.02298, 200....|\n",
      "|002098|Death Sentence: P...|[[, ]]|     Avant-Garde|  365|Here Come The Ghosts|[-72.996765, 172....|\n",
      "|002069|     caUSE co-MOTION|[[, ]]|            Punk|  377| stop standing still|[-135.30476, 152....|\n",
      "|002000|Weather (from Chi...|[[, ]]|Field Recordings|  100|            Track 04|[-318.25314, 162....|\n",
      "|002021|           Yuma Nora|[[, ]]|     Avant-Garde|   81|                  04|[-124.55883, 127....|\n",
      "|002001|Weather (from Chi...|[[, ]]|Field Recordings|   86|            Track 05|[-392.88358, 181....|\n",
      "|002006|Weather (from Chi...|[[, ]]|Field Recordings|   96|            Track 10|[-388.24988, 195....|\n",
      "|002004|Weather (from Chi...|[[, ]]|Field Recordings|   86|            Track 08|[-335.7767, 201.6...|\n",
      "|002003|Weather (from Chi...|[[, ]]|Field Recordings|  101|            Track 07|[-329.8288, 169.6...|\n",
      "|002126|          Bolmongani|[[, ]]|            Rock|  169|          Mergatroid|[-48.60065, 164.5...|\n",
      "|002014|             Xiu Xiu|[[, ]]|      Indie-Rock|  687|Lyxes: Leave this...|[-106.57192, 138....|\n",
      "|002010| What Cheer? Brigade|[[, ]]|            Jazz| 3756|          Green Eyes|[-137.40826, 142....|\n",
      "|002077|      Thomas Dimuzio|[[, ]]|      Electronic|   70|          Southshore|[-214.44177, 195....|\n",
      "|002009|     Weirdo Begeirdo|[[, ]]|            Rock|   69|           Swamputee|[-140.56325, 192....|\n",
      "+------+--------------------+------+----------------+-----+--------------------+--------------------+\n",
      "only showing top 20 rows\n",
      "\n"
     ]
    }
   ],
   "source": [
    "df.show()"
   ]
  },
  {
   "cell_type": "code",
   "execution_count": 39,
   "id": "04a3d049-f9c4-4e00-8c18-f9e8ef1ef103",
   "metadata": {},
   "outputs": [
    {
     "name": "stdout",
     "output_type": "stream",
     "text": [
      "Number of rows in DataFrame: 5000\n"
     ]
    }
   ],
   "source": [
    "# Assuming df is your Spark DataFrame\n",
    "row_count = df.count()\n",
    "print(\"Number of rows in DataFrame:\", row_count)"
   ]
  },
  {
   "cell_type": "code",
   "execution_count": 40,
   "id": "89be64fd-1f14-4409-8930-4c9661637d9a",
   "metadata": {},
   "outputs": [],
   "source": [
    "# Drop rows with missing values in necessary columns\n",
    "df = df.dropna(subset=[\"_id\", \"artist_name\", \"tags\",\"genre\",\"plays\",\"title\",\"mfcc_features\"])"
   ]
  },
  {
   "cell_type": "code",
   "execution_count": 41,
   "id": "966de2e2-c543-479d-89bb-150a3707030e",
   "metadata": {},
   "outputs": [
    {
     "name": "stdout",
     "output_type": "stream",
     "text": [
      "+------+--------------------+------+----------------+-----+--------------------+--------------------+\n",
      "|   _id|         artist_name|  tags|           genre|plays|               title|       mfcc_features|\n",
      "+------+--------------------+------+----------------+-----+--------------------+--------------------+\n",
      "|002112|       Lucky Dragons|[[, ]]|   Audio Collage|  140|            Untitled|[-115.737465, 158...|\n",
      "|002074|      Thomas Dimuzio|[[, ]]|      Electronic|   52|             Poctoth|[-450.57495, 178....|\n",
      "|002012|          White Mice|[[, ]]|           Noise| 1383|      The White Mice|[-13.433411, 136....|\n",
      "|002073|      Thomas Dimuzio|[[, ]]|      Electronic|   61|           Skullshop|[-368.97177, 77.6...|\n",
      "|002071|      Thomas Dimuzio|[[, ]]|      Electronic|  140|          Blind Lion|[-371.8308, 170.4...|\n",
      "|002008|Weather (from Chi...|[[, ]]|Field Recordings|  187|            Track 12|[-426.25522, 150....|\n",
      "|002105|       Lucky Dragons|[[, ]]|   Audio Collage| 7027|          Untitled 6|[-142.02298, 200....|\n",
      "|002098|Death Sentence: P...|[[, ]]|     Avant-Garde|  365|Here Come The Ghosts|[-72.996765, 172....|\n",
      "|002069|     caUSE co-MOTION|[[, ]]|            Punk|  377| stop standing still|[-135.30476, 152....|\n",
      "|002000|Weather (from Chi...|[[, ]]|Field Recordings|  100|            Track 04|[-318.25314, 162....|\n",
      "|002021|           Yuma Nora|[[, ]]|     Avant-Garde|   81|                  04|[-124.55883, 127....|\n",
      "|002001|Weather (from Chi...|[[, ]]|Field Recordings|   86|            Track 05|[-392.88358, 181....|\n",
      "|002006|Weather (from Chi...|[[, ]]|Field Recordings|   96|            Track 10|[-388.24988, 195....|\n",
      "|002004|Weather (from Chi...|[[, ]]|Field Recordings|   86|            Track 08|[-335.7767, 201.6...|\n",
      "|002003|Weather (from Chi...|[[, ]]|Field Recordings|  101|            Track 07|[-329.8288, 169.6...|\n",
      "|002126|          Bolmongani|[[, ]]|            Rock|  169|          Mergatroid|[-48.60065, 164.5...|\n",
      "|002014|             Xiu Xiu|[[, ]]|      Indie-Rock|  687|Lyxes: Leave this...|[-106.57192, 138....|\n",
      "|002010| What Cheer? Brigade|[[, ]]|            Jazz| 3756|          Green Eyes|[-137.40826, 142....|\n",
      "|002077|      Thomas Dimuzio|[[, ]]|      Electronic|   70|          Southshore|[-214.44177, 195....|\n",
      "|002009|     Weirdo Begeirdo|[[, ]]|            Rock|   69|           Swamputee|[-140.56325, 192....|\n",
      "+------+--------------------+------+----------------+-----+--------------------+--------------------+\n",
      "only showing top 20 rows\n",
      "\n"
     ]
    }
   ],
   "source": [
    "df.show()"
   ]
  },
  {
   "cell_type": "code",
   "execution_count": 42,
   "id": "471a48ba-5253-468b-9a16-d45af8ff0826",
   "metadata": {},
   "outputs": [
    {
     "name": "stdout",
     "output_type": "stream",
     "text": [
      "Number of rows in DataFrame: 5000\n"
     ]
    }
   ],
   "source": [
    "# Assuming df is your Spark DataFrame\n",
    "row_count = df.count()\n",
    "print(\"Number of rows in DataFrame:\", row_count)"
   ]
  },
  {
   "cell_type": "code",
   "execution_count": 43,
   "id": "9b0a6ae5-1512-496b-b93c-222caa62415f",
   "metadata": {},
   "outputs": [],
   "source": [
    "from annoy import AnnoyIndex"
   ]
  },
  {
   "cell_type": "code",
   "execution_count": 75,
   "id": "e41e2320-836a-4beb-85d9-dcf7b9f63ea8",
   "metadata": {},
   "outputs": [],
   "source": [
    "# Initialize Annoy index\n",
    "num_features = len(df.first()['mfcc_features'])\n",
    "annoy_index = AnnoyIndex(num_features, 'angular')  # 'angular' distance works well with cosine similarity"
   ]
  },
  {
   "cell_type": "code",
   "execution_count": 46,
   "id": "93829d91-0cc5-439a-b6aa-6a1834c4d35d",
   "metadata": {},
   "outputs": [],
   "source": [
    "# Initialize Annoy index\n",
    "num_features = len(df_pandas['mfcc_features'][0])\n",
    "annoy_index = AnnoyIndex(num_features, 'angular')  # 'angular' distance works well with cosine similarity"
   ]
  },
  {
   "cell_type": "markdown",
   "id": "5370da3c-99ab-4961-b31c-439b5f8f193f",
   "metadata": {},
   "source": [
    "##### In our case 'angular' specifies the distance metric used by the index. In this case, 'angular' refers to the cosine similarity metric, which is well-suited for high-dimensional vector spaces. Cosine similarity measures the cosine of the angle between two vectors and is commonly used in recommendation systems to find similar items based on their feature vectors."
   ]
  },
  {
   "cell_type": "code",
   "execution_count": 76,
   "id": "a7afebec-86ba-42c7-9808-cb993d3bc3b5",
   "metadata": {},
   "outputs": [
    {
     "data": {
      "text/plain": [
       "13"
      ]
     },
     "execution_count": 76,
     "metadata": {},
     "output_type": "execute_result"
    }
   ],
   "source": [
    "num_features"
   ]
  },
  {
   "cell_type": "code",
   "execution_count": 77,
   "id": "4412235d-389a-42c6-93df-5b7bada22ec2",
   "metadata": {},
   "outputs": [],
   "source": [
    "# Add items to Annoy index\n",
    "for i, row in enumerate(df.collect()):\n",
    "    audio_features = row['mfcc_features']\n",
    "    annoy_index.add_item(i, audio_features)"
   ]
  },
  {
   "cell_type": "code",
   "execution_count": 78,
   "id": "40c5f682-31c2-4479-9325-1e119c049b7f",
   "metadata": {},
   "outputs": [
    {
     "data": {
      "text/plain": [
       "True"
      ]
     },
     "execution_count": 78,
     "metadata": {},
     "output_type": "execute_result"
    }
   ],
   "source": [
    "# Build Annoy index\n",
    "annoy_index.build(50)  # 50 trees for the index (adjust as needed)"
   ]
  },
  {
   "cell_type": "code",
   "execution_count": 83,
   "id": "c0949e53-b384-4666-9082-9ff2bdf71d4e",
   "metadata": {},
   "outputs": [],
   "source": [
    "def find_similar_items(audio_features, n=10):\n",
    "    similar_items = annoy_index.get_nns_by_vector(audio_features, n)\n",
    "    return [df.collect()[idx] for idx in similar_items]"
   ]
  },
  {
   "cell_type": "code",
   "execution_count": 86,
   "id": "0411453f-d135-456f-a856-a5acfe6f1e48",
   "metadata": {},
   "outputs": [
    {
     "name": "stdout",
     "output_type": "stream",
     "text": [
      "002112 Untitled\n",
      "\n",
      "001979 WFMU v WFMU A\n",
      "\n",
      "001771 Seasons of Swarm\n",
      "\n",
      "001073 Onda Tocadisco\n",
      "\n",
      "009705 Mud On The Turtle\n",
      "\n",
      "014335 Relic\n",
      "\n",
      "004162 Live at WFMU (Full set)\n",
      "\n",
      "014339 Two Invitations\n",
      "\n",
      "014892 Rosalie\n",
      "\n",
      "003984 We Move in Waves\n",
      "\n"
     ]
    }
   ],
   "source": [
    "first_audio_features = df.first()['mfcc_features']\n",
    "similar_items = find_similar_items(first_audio_features)\n",
    "for item in similar_items:\n",
    "    print(item[0], item[5])\n",
    "    print()"
   ]
  },
  {
   "cell_type": "code",
   "execution_count": 87,
   "id": "509a188b-3bb3-4cb9-bf8b-19592ba807e0",
   "metadata": {},
   "outputs": [
    {
     "name": "stdout",
     "output_type": "stream",
     "text": [
      "ID: 004275 | Title: Magic Fairy Poof Dust\n",
      "ID: 004456 | Title: St Jude Boys Choir\n",
      "ID: 009281 | Title: A fading Pale Face\n",
      "ID: 016008 | Title: This will work somehow\n",
      "ID: 003782 | Title: Blond and Golden Johns\n",
      "ID: 001802 | Title: Start from Scratch\n",
      "ID: 001705 | Title: Underscore\n",
      "ID: 016113 | Title: Damp aaf\n",
      "ID: 009136 | Title: Into Infinity \"ear\" loop\n",
      "ID: 004111 | Title: Bad Vibrations\n"
     ]
    },
    {
     "name": "stdin",
     "output_type": "stream",
     "text": [
      "Enter music ID to get nearest recommendations (enter 's' to stop):  003782\n"
     ]
    },
    {
     "name": "stdout",
     "output_type": "stream",
     "text": [
      "Nearest recommendations for music ID 003782 :\n",
      "ID: 003782 | Title: Blond and Golden Johns\n",
      "ID: 014758 | Title: Axis Mundi\n",
      "ID: 003787 | Title: The Most Excruciating Vibe\n",
      "ID: 008882 | Title: In the Forrest\n",
      "ID: 008859 | Title: In the Forrest\n",
      "ID: 007487 | Title: The Robot's Heel\n",
      "ID: 003464 | Title: She\n",
      "ID: 003842 | Title: Shes Too Fat\n",
      "ID: 004225 | Title: Undertow\n",
      "ID: 003781 | Title: They Were Wrong\n"
     ]
    },
    {
     "name": "stdin",
     "output_type": "stream",
     "text": [
      "Enter music ID to get nearest recommendations (enter 's' to stop):  008882\n"
     ]
    },
    {
     "name": "stdout",
     "output_type": "stream",
     "text": [
      "Nearest recommendations for music ID 008882 :\n",
      "ID: 008882 | Title: In the Forrest\n",
      "ID: 008859 | Title: In the Forrest\n",
      "ID: 007867 | Title: Strawberry > I Dig You\n",
      "ID: 003787 | Title: The Most Excruciating Vibe\n",
      "ID: 004209 | Title: Random Rules\n",
      "ID: 007122 | Title: Cover Art/Curragh of Kildare\n",
      "ID: 014758 | Title: Axis Mundi\n",
      "ID: 003590 | Title: 1000 Tears\n",
      "ID: 003876 | Title: Manouche\n",
      "ID: 003285 | Title: All Myself\n"
     ]
    },
    {
     "name": "stdin",
     "output_type": "stream",
     "text": [
      "Enter music ID to get nearest recommendations (enter 's' to stop):  003781\n"
     ]
    },
    {
     "name": "stdout",
     "output_type": "stream",
     "text": [
      "Nearest recommendations for music ID 003781 :\n",
      "ID: 003781 | Title: They Were Wrong\n",
      "ID: 004044 | Title: Little Lambs\n",
      "ID: 014479 | Title: Soberbia Espiritual\n",
      "ID: 007872 | Title: Saved\n",
      "ID: 016217 | Title: When I'm 54\n",
      "ID: 004097 | Title: Clammy Hands\n",
      "ID: 003782 | Title: Blond and Golden Johns\n",
      "ID: 003732 | Title: Blue Lambency Downward\n",
      "ID: 007867 | Title: Strawberry > I Dig You\n",
      "ID: 014268 | Title: Disciplina\n"
     ]
    },
    {
     "name": "stdin",
     "output_type": "stream",
     "text": [
      "Enter music ID to get nearest recommendations (enter 's' to stop):  s\n"
     ]
    }
   ],
   "source": [
    "import random\n",
    "\n",
    "# Function to show 10 random music IDs and titles\n",
    "def show_random_music():\n",
    "    random_selection = random.sample(df.collect(), 10)\n",
    "    for item in random_selection:\n",
    "        print(\"ID:\", item[0], \"| Title:\", item[5])\n",
    "\n",
    "# Show 10 random music IDs and titles initially\n",
    "show_random_music()\n",
    "\n",
    "# Function to prompt user for input and get nearest recommendations\n",
    "def get_nearest_recommendations():\n",
    "    while True:\n",
    "        user_input = input(\"Enter music ID to get nearest recommendations (enter 's' to stop): \")\n",
    "        if user_input == 's':\n",
    "            break\n",
    "        else:\n",
    "            # Find similar items for the input music ID\n",
    "            audio_features = df.filter(df._id == user_input).select(\"mfcc_features\").collect()[0][0]\n",
    "            similar_items = find_similar_items(audio_features)\n",
    "            print(\"Nearest recommendations for music ID\", user_input, \":\")\n",
    "            for item in similar_items:\n",
    "                print(\"ID:\", item[0], \"| Title:\", item[5])\n",
    "\n",
    "# Prompt user for input and get nearest recommendations\n",
    "get_nearest_recommendations()\n"
   ]
  },
  {
   "cell_type": "code",
   "execution_count": 90,
   "id": "20ff637b-d12a-400f-9636-f6a3d6b9bc52",
   "metadata": {},
   "outputs": [
    {
     "name": "stdout",
     "output_type": "stream",
     "text": [
      " * Serving Flask app '__main__'\n",
      " * Debug mode: on\n"
     ]
    },
    {
     "name": "stderr",
     "output_type": "stream",
     "text": [
      "WARNING: This is a development server. Do not use it in a production deployment. Use a production WSGI server instead.\n",
      " * Running on http://127.0.0.1:5000\n",
      "Press CTRL+C to quit\n",
      " * Restarting with stat\n",
      "Traceback (most recent call last):\n",
      "  File \"/usr/lib/python3.10/runpy.py\", line 196, in _run_module_as_main\n",
      "    return _run_code(code, main_globals, None,\n",
      "  File \"/usr/lib/python3.10/runpy.py\", line 86, in _run_code\n",
      "    exec(code, run_globals)\n",
      "  File \"/home/muhammad/.local/lib/python3.10/site-packages/ipykernel_launcher.py\", line 18, in <module>\n",
      "    app.launch_new_instance()\n",
      "  File \"/home/muhammad/.local/lib/python3.10/site-packages/traitlets/config/application.py\", line 1074, in launch_instance\n",
      "    app.initialize(argv)\n",
      "  File \"/home/muhammad/.local/lib/python3.10/site-packages/traitlets/config/application.py\", line 118, in inner\n",
      "    return method(app, *args, **kwargs)\n",
      "  File \"/home/muhammad/.local/lib/python3.10/site-packages/ipykernel/kernelapp.py\", line 692, in initialize\n",
      "    self.init_sockets()\n",
      "  File \"/home/muhammad/.local/lib/python3.10/site-packages/ipykernel/kernelapp.py\", line 331, in init_sockets\n",
      "    self.shell_port = self._bind_socket(self.shell_socket, self.shell_port)\n",
      "  File \"/home/muhammad/.local/lib/python3.10/site-packages/ipykernel/kernelapp.py\", line 253, in _bind_socket\n",
      "    return self._try_bind_socket(s, port)\n",
      "  File \"/home/muhammad/.local/lib/python3.10/site-packages/ipykernel/kernelapp.py\", line 229, in _try_bind_socket\n",
      "    s.bind(\"tcp://%s:%i\" % (self.ip, port))\n",
      "  File \"/home/muhammad/.local/lib/python3.10/site-packages/zmq/sugar/socket.py\", line 302, in bind\n",
      "    super().bind(addr)\n",
      "  File \"zmq/backend/cython/socket.pyx\", line 564, in zmq.backend.cython.socket.Socket.bind\n",
      "  File \"zmq/backend/cython/checkrc.pxd\", line 28, in zmq.backend.cython.checkrc._check_rc\n",
      "zmq.error.ZMQError: Address already in use (addr='tcp://127.0.0.1:45737')\n"
     ]
    },
    {
     "ename": "SystemExit",
     "evalue": "1",
     "output_type": "error",
     "traceback": [
      "An exception has occurred, use %tb to see the full traceback.\n",
      "\u001b[0;31mSystemExit\u001b[0m\u001b[0;31m:\u001b[0m 1\n"
     ]
    }
   ],
   "source": [
    "from flask import Flask, render_template, request\n",
    "import random\n",
    "\n",
    "app = Flask(__name__)\n",
    "\n",
    "# Function to show 10 random music IDs and titles\n",
    "def show_random_music():\n",
    "    random_selection = random.sample(df.collect(), 10)\n",
    "    return random_selection\n",
    "\n",
    "# Function to get nearest recommendations for a given music ID\n",
    "def get_nearest_recommendations(music_id):\n",
    "    # Find similar items for the input music ID\n",
    "    audio_features = df.filter(df._id == music_id).select(\"mfcc_features\").collect()[0][0]\n",
    "    similar_items = find_similar_items(audio_features)\n",
    "    return similar_items\n",
    "\n",
    "@app.route('/')\n",
    "def index():\n",
    "    random_music = show_random_music()\n",
    "    return render_template('index.html', random_music=random_music)\n",
    "\n",
    "@app.route('/recommendations', methods=['POST'])\n",
    "def recommendations():\n",
    "    music_id = request.form['music_id']\n",
    "    nearest_recommendations = get_nearest_recommendations(music_id)\n",
    "    return render_template('recommendations.html', music_id=music_id, nearest_recommendations=nearest_recommendations)\n",
    "\n",
    "if __name__ == '__main__':\n",
    "    app.run(debug=True)"
   ]
  },
  {
   "cell_type": "code",
   "execution_count": null,
   "id": "6401ba99-9482-414b-bb1f-4b0bc0dc3b01",
   "metadata": {},
   "outputs": [],
   "source": []
  }
 ],
 "metadata": {
  "kernelspec": {
   "display_name": "Python 3 (ipykernel)",
   "language": "python",
   "name": "python3"
  },
  "language_info": {
   "codemirror_mode": {
    "name": "ipython",
    "version": 3
   },
   "file_extension": ".py",
   "mimetype": "text/x-python",
   "name": "python",
   "nbconvert_exporter": "python",
   "pygments_lexer": "ipython3",
   "version": "3.10.12"
  }
 },
 "nbformat": 4,
 "nbformat_minor": 5
}
